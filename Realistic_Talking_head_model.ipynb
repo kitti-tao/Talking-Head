{
  "nbformat": 4,
  "nbformat_minor": 0,
  "metadata": {
    "colab": {
      "name": "Realistic-Talking-head-model.ipynb",
      "provenance": [],
      "collapsed_sections": [],
      "toc_visible": true,
      "authorship_tag": "ABX9TyPMUeq2Z7b6szO8ygjGTdrX",
      "include_colab_link": true
    },
    "kernelspec": {
      "name": "python3",
      "display_name": "Python 3"
    },
    "accelerator": "GPU"
  },
  "cells": [
    {
      "cell_type": "markdown",
      "metadata": {
        "id": "view-in-github",
        "colab_type": "text"
      },
      "source": [
        "<a href=\"https://colab.research.google.com/github/kitti-tao/Realistic-Talking-Head-Model/blob/master/Realistic_Talking_head_model.ipynb\" target=\"_parent\"><img src=\"https://colab.research.google.com/assets/colab-badge.svg\" alt=\"Open In Colab\"/></a>"
      ]
    },
    {
      "cell_type": "markdown",
      "metadata": {
        "id": "HltX3sa1ChzF",
        "colab_type": "text"
      },
      "source": [
        "\n",
        "**Prevent random disconnects**\n",
        "\n",
        "This cell runs JS code to automatic reconnect to runtime."
      ]
    },
    {
      "cell_type": "code",
      "metadata": {
        "id": "z1SgOJVTCYsk",
        "colab_type": "code",
        "colab": {
          "base_uri": "https://localhost:8080/",
          "height": 34
        },
        "outputId": "668cba14-acfc-4c06-f5f8-20d4622e9fd8"
      },
      "source": [
        "import IPython\n",
        "from google.colab import output\n",
        "\n",
        "display(IPython.display.Javascript('''\n",
        "  function ClickConnect(){\n",
        "    console.log(\"Working\"); \n",
        "    document.querySelector(\"colab-connect-button\").click() \n",
        "  }\n",
        "  var connect_timer = setInterval(ClickConnect,60000)\n",
        "'''))\n",
        "\n",
        "print(\"Done.\")"
      ],
      "execution_count": 6,
      "outputs": [
        {
          "output_type": "display_data",
          "data": {
            "application/javascript": [
              "\n",
              "  function ClickConnect(){\n",
              "    console.log(\"Working\"); \n",
              "    document.querySelector(\"colab-connect-button\").click() \n",
              "  }\n",
              "  var connect_timer = setInterval(ClickConnect,60000)\n"
            ],
            "text/plain": [
              "<IPython.core.display.Javascript object>"
            ]
          },
          "metadata": {
            "tags": []
          }
        },
        {
          "output_type": "stream",
          "text": [
            "Done.\n"
          ],
          "name": "stdout"
        }
      ]
    },
    {
      "cell_type": "markdown",
      "metadata": {
        "id": "l_BKiEH7CylM",
        "colab_type": "text"
      },
      "source": [
        "**Check GPU**\n",
        "\n",
        "* Google Colab can provide you with one of Tesla graphics cards: K80, T4, P4 or P100\n",
        "* Here you can check the model of GPU before using Realistic-Talking-Head-model"
      ]
    },
    {
      "cell_type": "code",
      "metadata": {
        "id": "ecH9YFH_C1sD",
        "colab_type": "code",
        "colab": {
          "base_uri": "https://localhost:8080/",
          "height": 306
        },
        "outputId": "f60c0fc6-7c5c-48e2-dc7a-1087dfad6aa7"
      },
      "source": [
        "!nvidia-smi"
      ],
      "execution_count": 7,
      "outputs": [
        {
          "output_type": "stream",
          "text": [
            "Fri Mar 27 10:36:38 2020       \n",
            "+-----------------------------------------------------------------------------+\n",
            "| NVIDIA-SMI 440.64.00    Driver Version: 418.67       CUDA Version: 10.1     |\n",
            "|-------------------------------+----------------------+----------------------+\n",
            "| GPU  Name        Persistence-M| Bus-Id        Disp.A | Volatile Uncorr. ECC |\n",
            "| Fan  Temp  Perf  Pwr:Usage/Cap|         Memory-Usage | GPU-Util  Compute M. |\n",
            "|===============================+======================+======================|\n",
            "|   0  Tesla P4            Off  | 00000000:00:04.0 Off |                    0 |\n",
            "| N/A   33C    P8     7W /  75W |      0MiB /  7611MiB |      0%      Default |\n",
            "+-------------------------------+----------------------+----------------------+\n",
            "                                                                               \n",
            "+-----------------------------------------------------------------------------+\n",
            "| Processes:                                                       GPU Memory |\n",
            "|  GPU       PID   Type   Process name                             Usage      |\n",
            "|=============================================================================|\n",
            "|  No running processes found                                                 |\n",
            "+-----------------------------------------------------------------------------+\n"
          ],
          "name": "stdout"
        }
      ]
    },
    {
      "cell_type": "markdown",
      "metadata": {
        "id": "UtxGHgW3C4zz",
        "colab_type": "text"
      },
      "source": [
        "**Clone Github repository and install requirements**\n",
        "*   Clone Github repository or pull updates\n",
        "*   Requirements install is automatically\n",
        "*   Automatically sets timer to prevent random disconnects\n",
        "\n",
        "\n",
        "\n"
      ]
    },
    {
      "cell_type": "code",
      "metadata": {
        "id": "_KFqvxbxDAVu",
        "colab_type": "code",
        "colab": {
          "base_uri": "https://localhost:8080/",
          "height": 119
        },
        "outputId": "c416121c-f6ee-41b1-bb4b-de929f9a25fe"
      },
      "source": [
        "#@title Clone or pull DeepFaceLab from Github\n",
        "\n",
        "Mode = \"clone\" #@param [\"clone\", \"pull\"]\n",
        "\n",
        "from pathlib import Path\n",
        "if (Mode == \"clone\"):\n",
        "  !git clone git@github.com:kitti-tao/Realistic-Talking-Head-Model.git\n",
        "\n",
        "  # fix linux warning\n",
        "  # /usr/lib/python3.6/multiprocessing/semaphore_tracker.py:143: UserWarning: semaphore_tracker: There appear to be 1 leaked semaphores to clean up at shutdown\n",
        "  fin = open(\"/usr/lib/python3.6/multiprocessing/semaphore_tracker.py\", \"rt\")\n",
        "  data = fin.read()\n",
        "  data = data.replace('if cache:', 'if False:')\n",
        "  fin.close()\n",
        "\n",
        "  fin = open(\"/usr/lib/python3.6/multiprocessing/semaphore_tracker.py\", \"wt\")\n",
        "  fin.write(data)\n",
        "  fin.close()\n",
        "else:\n",
        "  %cd /content/Realistic-Neural-Talking-Head-Models\n",
        "  !git pull\n"
      ],
      "execution_count": 7,
      "outputs": [
        {
          "output_type": "stream",
          "text": [
            "Cloning into 'Realistic-Talking-Head-Model'...\n",
            "Host key verification failed.\r\n",
            "fatal: Could not read from remote repository.\n",
            "\n",
            "Please make sure you have the correct access rights\n",
            "and the repository exists.\n"
          ],
          "name": "stdout"
        }
      ]
    },
    {
      "cell_type": "code",
      "metadata": {
        "id": "Htt18tUllM_X",
        "colab_type": "code",
        "colab": {}
      },
      "source": [
        "!pip install -r /content/Realistic-Neural-Talking-Head-Models/requirements.txt\n",
        "!apt-get install cuda-10-0\n",
        "!pip install gdown\n",
        "\n",
        "if not Path(\"/content/vgg_face\").exists():\n",
        "  print(\"Downloading vgg_face model ... \")\n",
        "  !mkdir /content/vgg_face\n",
        "  !wget -q --no-check-certificate -r http://www.robots.ox.ac.uk/~vgg/software/vgg_face/src/vgg_face_caffe.tar.gz -O /content/vgg_face/vgg_face_caffe.tar.gz\n",
        "  !tar -C /content/vgg_face/ xvzf /content/vgg_face/vgg_face_caffe.tar.gz\n",
        "  !sudo apt install caffe-cuda\n",
        "  !pip install mmdnn\n",
        "  !pip install numpy==1.16.1\n",
        "  !mmtoir -f caffe -n /content/vgg_face/vgg_face_caffe/VGG_FACE_deploy.prototxt -w /content/vgg_face/vgg_face_caffe/VGG_FACE.caffemodel -o /content/vgg_face/VGGFACE_IR\n",
        "  !mmtocode -f pytorch -n /content/vgg_face/VGGFACE_IR.pb --IRWeightPath /content/vgg_face/VGGFACE_IR.npy --dstModelPath /content/vgg_face/Pytorch_VGGFACE_IR.py -dw /content/vgg_face/Pytorch_VGGFACE_IR.npy\n",
        "  !mmtomodel -f pytorch -in /content/vgg_face/Pytorch_VGGFACE_IR.py -iw /content/vgg_face/Pytorch_VGGFACE_IR.npy -o /content/vgg_face/Pytorch_VGGFACE.pth\n",
        "  !mv /content/vgg_face/Pytorch_VGGFACE_IR.py /content/Realistic-Neural-Talking-Head-Models/.\n",
        "  !mv /content/vgg_face/Pytorch_VGGFACE.pth /content/Realistic-Neural-Talking-Head-Models/.\n",
        "  !rm -r /content/vgg_face\n",
        "  !pip install numpy\n",
        "\n",
        "import IPython\n",
        "from google.colab import output\n",
        "\n",
        "display(IPython.display.Javascript('''\n",
        "  function ClickConnect(){\n",
        "    console.log(\"Working\"); \n",
        "    document.querySelector(\"colab-connect-button\").click() \n",
        "  }\n",
        "  var connect_timer = setInterval(ClickConnect,60000)\n",
        "'''))\n",
        "\n",
        "print(\"\\nDone!\")"
      ],
      "execution_count": 0,
      "outputs": []
    },
    {
      "cell_type": "markdown",
      "metadata": {
        "id": "sJt9YayFI9xh",
        "colab_type": "text"
      },
      "source": [
        "Connect to Google Drive"
      ]
    },
    {
      "cell_type": "code",
      "metadata": {
        "id": "LiRauCj-I98W",
        "colab_type": "code",
        "colab": {
          "base_uri": "https://localhost:8080/",
          "height": 156
        },
        "outputId": "3567668f-c5d7-459c-c859-3167845effa5"
      },
      "source": [
        "#Mount Google Drive as folder\n",
        "from google.colab import drive\n",
        "drive.mount('/content/drive', force_remount=True)\n",
        "\n",
        "def zip_and_copy(path, mode):\n",
        "  unzip_cmd=\" -q \"+Archive_name\n",
        "  \n",
        "  %cd $path\n",
        "  copy_cmd = \"/content/drive/My\\ Drive/\"+Archive_name+\" \"+path\n",
        "  !cp $copy_cmd\n",
        "  !unzip $unzip_cmd    \n",
        "  !rm $Archive_name\n",
        "\n",
        "if Mode == \"workspace\":\n",
        "  zip_and_copy(\"/content\", \"workspace\")\n",
        "elif Mode == \"models\":\n",
        "  zip_and_copy(\"/content/workspace\", \"model\")\n",
        "  \n",
        "print(\"Done!\")"
      ],
      "execution_count": 1,
      "outputs": [
        {
          "output_type": "stream",
          "text": [
            "Go to this URL in a browser: https://accounts.google.com/o/oauth2/auth?client_id=947318989803-6bn6qk8qdgf4n4g3pfee6491hc0brc4i.apps.googleusercontent.com&redirect_uri=urn%3aietf%3awg%3aoauth%3a2.0%3aoob&response_type=code&scope=email%20https%3a%2f%2fwww.googleapis.com%2fauth%2fdocs.test%20https%3a%2f%2fwww.googleapis.com%2fauth%2fdrive%20https%3a%2f%2fwww.googleapis.com%2fauth%2fdrive.photos.readonly%20https%3a%2f%2fwww.googleapis.com%2fauth%2fpeopleapi.readonly\n",
            "\n",
            "Enter your authorization code:\n",
            "··········\n",
            "Mounted at /content/drive\n",
            "/content\n",
            "Done!\n"
          ],
          "name": "stdout"
        }
      ]
    },
    {
      "cell_type": "markdown",
      "metadata": {
        "colab_type": "text",
        "id": "9tKOFJHxjh7z"
      },
      "source": [
        "Download Dataset"
      ]
    },
    {
      "cell_type": "code",
      "metadata": {
        "colab_type": "code",
        "id": "8TcCNkAfjhK4",
        "colab": {}
      },
      "source": [
        "!wget --user voxceleb1912 --password 0s42xuw6: -q --no-check-certificate -r http://www.robots.ox.ac.uk/~vgg/data/voxceleb/vox1a/vox2_test_mp4.zip -O /content/vox2_test_mp4.zip\n",
        "!unzip -q /content/vox2_test_mp4.zip -d /content/Realistic-Neural-Talking-Head-Models/\n",
        "!rm /content/vox2_test_mp4.zip"
      ],
      "execution_count": 0,
      "outputs": []
    },
    {
      "cell_type": "markdown",
      "metadata": {
        "id": "K1kTvfogQATx",
        "colab_type": "text"
      },
      "source": [
        "Train Model"
      ]
    },
    {
      "cell_type": "code",
      "metadata": {
        "id": "5EwL8IufQCIc",
        "colab_type": "code",
        "colab": {}
      },
      "source": [
        "!python /content/Realistic-Neural-Talking-Head-Models/train.py"
      ],
      "execution_count": 0,
      "outputs": []
    }
  ]
}